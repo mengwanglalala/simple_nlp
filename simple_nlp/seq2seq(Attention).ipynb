{
 "cells": [
  {
   "cell_type": "code",
   "execution_count": 4,
   "metadata": {},
   "outputs": [
    {
     "name": "stderr",
     "output_type": "stream",
     "text": [
      "D:\\SoftInstall\\Anaconda3\\envs\\pytorch\\lib\\importlib\\_bootstrap.py:219: RuntimeWarning: numpy.ndarray size changed, may indicate binary incompatibility. Expected 80 from C header, got 88 from PyObject\n",
      "  return f(*args, **kwds)\n"
     ]
    }
   ],
   "source": [
    "'''\n",
    "refer: https://github.com/bentrevett/pytorch-seq2seq/blob/master/3%20-%20Neural%20Machine%20Translation%20by%20Jointly%20Learning%20to%20Align%20and%20Translate.ipynb\n",
    "'''\n",
    "import torch\n",
    "import torch.nn as nn\n",
    "import torch.optim as optim\n",
    "import torch.nn.functional as F\n",
    "import numpy as np\n",
    "import random\n",
    "import math\n",
    "import time\n",
    "from torchtext.datasets import Multi30k\n",
    "import spacy"
   ]
  },
  {
   "cell_type": "code",
   "execution_count": 7,
   "metadata": {},
   "outputs": [
    {
     "name": "stderr",
     "output_type": "stream",
     "text": [
      "2023-04-28 17:06:57.090129: I tensorflow/stream_executor/platform/default/dso_loader.cc:53] Successfully opened dynamic library cudart64_110.dll\n",
      "  WARNING: Retrying (Retry(total=4, connect=None, read=None, redirect=None, status=None)) after connection broken by 'ReadTimeoutError(\"HTTPSConnectionPool(host='github.com', port=443): Read timed out. (read timeout=15)\")': /explosion/spacy-models/releases/download/de_core_news_sm-3.0.0/de_core_news_sm-3.0.0-py3-none-any.whl\n"
     ]
    },
    {
     "name": "stdout",
     "output_type": "stream",
     "text": [
      "⚠ As of spaCy v3.0, shortcuts like 'de' are deprecated. Please use the full\n",
      "pipeline package name 'de_core_news_sm' instead.\n",
      "Collecting de-core-news-sm==3.0.0\n",
      "  Downloading https://github.com/explosion/spacy-models/releases/download/de_core_news_sm-3.0.0/de_core_news_sm-3.0.0-py3-none-any.whl (19.3 MB)\n",
      "Requirement already satisfied: spacy<3.1.0,>=3.0.0 in d:\\softinstall\\anaconda3\\envs\\pytorch\\lib\\site-packages (from de-core-news-sm==3.0.0) (3.0.6)\n",
      "Requirement already satisfied: wasabi<1.1.0,>=0.8.1 in d:\\softinstall\\anaconda3\\envs\\pytorch\\lib\\site-packages (from spacy<3.1.0,>=3.0.0->de-core-news-sm==3.0.0) (0.8.2)\n",
      "Requirement already satisfied: srsly<3.0.0,>=2.4.1 in d:\\softinstall\\anaconda3\\envs\\pytorch\\lib\\site-packages (from spacy<3.1.0,>=3.0.0->de-core-news-sm==3.0.0) (2.4.1)\n",
      "Requirement already satisfied: pathy>=0.3.5 in d:\\softinstall\\anaconda3\\envs\\pytorch\\lib\\site-packages (from spacy<3.1.0,>=3.0.0->de-core-news-sm==3.0.0) (0.5.2)\n",
      "Requirement already satisfied: murmurhash<1.1.0,>=0.28.0 in d:\\softinstall\\anaconda3\\envs\\pytorch\\lib\\site-packages (from spacy<3.1.0,>=3.0.0->de-core-news-sm==3.0.0) (1.0.5)\n",
      "Requirement already satisfied: thinc<8.1.0,>=8.0.3 in d:\\softinstall\\anaconda3\\envs\\pytorch\\lib\\site-packages (from spacy<3.1.0,>=3.0.0->de-core-news-sm==3.0.0) (8.0.3)\n",
      "Requirement already satisfied: packaging>=20.0 in d:\\softinstall\\anaconda3\\envs\\pytorch\\lib\\site-packages (from spacy<3.1.0,>=3.0.0->de-core-news-sm==3.0.0) (21.3)\n",
      "Requirement already satisfied: jinja2 in d:\\softinstall\\anaconda3\\envs\\pytorch\\lib\\site-packages (from spacy<3.1.0,>=3.0.0->de-core-news-sm==3.0.0) (3.0.1)\n",
      "Requirement already satisfied: preshed<3.1.0,>=3.0.2 in d:\\softinstall\\anaconda3\\envs\\pytorch\\lib\\site-packages (from spacy<3.1.0,>=3.0.0->de-core-news-sm==3.0.0) (3.0.5)\n",
      "Requirement already satisfied: setuptools in d:\\softinstall\\anaconda3\\envs\\pytorch\\lib\\site-packages (from spacy<3.1.0,>=3.0.0->de-core-news-sm==3.0.0) (52.0.0.post20210125)\n",
      "Requirement already satisfied: typer<0.4.0,>=0.3.0 in d:\\softinstall\\anaconda3\\envs\\pytorch\\lib\\site-packages (from spacy<3.1.0,>=3.0.0->de-core-news-sm==3.0.0) (0.3.2)\n",
      "Requirement already satisfied: spacy-legacy<3.1.0,>=3.0.4 in d:\\softinstall\\anaconda3\\envs\\pytorch\\lib\\site-packages (from spacy<3.1.0,>=3.0.0->de-core-news-sm==3.0.0) (3.0.5)\n",
      "Requirement already satisfied: catalogue<2.1.0,>=2.0.3 in d:\\softinstall\\anaconda3\\envs\\pytorch\\lib\\site-packages (from spacy<3.1.0,>=3.0.0->de-core-news-sm==3.0.0) (2.0.4)\n",
      "Requirement already satisfied: tqdm<5.0.0,>=4.38.0 in d:\\softinstall\\anaconda3\\envs\\pytorch\\lib\\site-packages (from spacy<3.1.0,>=3.0.0->de-core-news-sm==3.0.0) (4.64.1)\n",
      "Requirement already satisfied: numpy>=1.15.0 in d:\\softinstall\\anaconda3\\envs\\pytorch\\lib\\site-packages (from spacy<3.1.0,>=3.0.0->de-core-news-sm==3.0.0) (1.21.6)\n",
      "Requirement already satisfied: typing-extensions<4.0.0.0,>=3.7.4 in d:\\softinstall\\anaconda3\\envs\\pytorch\\lib\\site-packages (from spacy<3.1.0,>=3.0.0->de-core-news-sm==3.0.0) (3.10.0.2)\n",
      "Requirement already satisfied: pydantic<1.8.0,>=1.7.1 in d:\\softinstall\\anaconda3\\envs\\pytorch\\lib\\site-packages (from spacy<3.1.0,>=3.0.0->de-core-news-sm==3.0.0) (1.7.4)\n",
      "Requirement already satisfied: cymem<2.1.0,>=2.0.2 in d:\\softinstall\\anaconda3\\envs\\pytorch\\lib\\site-packages (from spacy<3.1.0,>=3.0.0->de-core-news-sm==3.0.0) (2.0.5)\n",
      "Requirement already satisfied: requests<3.0.0,>=2.13.0 in d:\\softinstall\\anaconda3\\envs\\pytorch\\lib\\site-packages (from spacy<3.1.0,>=3.0.0->de-core-news-sm==3.0.0) (2.26.0)\n",
      "Requirement already satisfied: blis<0.8.0,>=0.4.0 in d:\\softinstall\\anaconda3\\envs\\pytorch\\lib\\site-packages (from spacy<3.1.0,>=3.0.0->de-core-news-sm==3.0.0) (0.7.4)\n",
      "Requirement already satisfied: zipp>=0.5 in d:\\softinstall\\anaconda3\\envs\\pytorch\\lib\\site-packages (from catalogue<2.1.0,>=2.0.3->spacy<3.1.0,>=3.0.0->de-core-news-sm==3.0.0) (3.4.1)\n",
      "Requirement already satisfied: pyparsing!=3.0.5,>=2.0.2 in d:\\softinstall\\anaconda3\\envs\\pytorch\\lib\\site-packages (from packaging>=20.0->spacy<3.1.0,>=3.0.0->de-core-news-sm==3.0.0) (2.4.7)\n",
      "Requirement already satisfied: smart-open<4.0.0,>=2.2.0 in d:\\softinstall\\anaconda3\\envs\\pytorch\\lib\\site-packages (from pathy>=0.3.5->spacy<3.1.0,>=3.0.0->de-core-news-sm==3.0.0) (3.0.0)\n",
      "Requirement already satisfied: certifi>=2017.4.17 in d:\\softinstall\\anaconda3\\envs\\pytorch\\lib\\site-packages (from requests<3.0.0,>=2.13.0->spacy<3.1.0,>=3.0.0->de-core-news-sm==3.0.0) (2021.5.30)\n",
      "Requirement already satisfied: charset-normalizer~=2.0.0 in d:\\softinstall\\anaconda3\\envs\\pytorch\\lib\\site-packages (from requests<3.0.0,>=2.13.0->spacy<3.1.0,>=3.0.0->de-core-news-sm==3.0.0) (2.0.4)\n",
      "Requirement already satisfied: urllib3<1.27,>=1.21.1 in d:\\softinstall\\anaconda3\\envs\\pytorch\\lib\\site-packages (from requests<3.0.0,>=2.13.0->spacy<3.1.0,>=3.0.0->de-core-news-sm==3.0.0) (1.26.6)\n",
      "Requirement already satisfied: idna<4,>=2.5 in d:\\softinstall\\anaconda3\\envs\\pytorch\\lib\\site-packages (from requests<3.0.0,>=2.13.0->spacy<3.1.0,>=3.0.0->de-core-news-sm==3.0.0) (3.2)\n",
      "Requirement already satisfied: colorama in d:\\softinstall\\anaconda3\\envs\\pytorch\\lib\\site-packages (from tqdm<5.0.0,>=4.38.0->spacy<3.1.0,>=3.0.0->de-core-news-sm==3.0.0) (0.4.4)\n",
      "Requirement already satisfied: click<7.2.0,>=7.1.1 in d:\\softinstall\\anaconda3\\envs\\pytorch\\lib\\site-packages (from typer<0.4.0,>=0.3.0->spacy<3.1.0,>=3.0.0->de-core-news-sm==3.0.0) (7.1.2)\n",
      "Requirement already satisfied: MarkupSafe>=2.0 in d:\\softinstall\\anaconda3\\envs\\pytorch\\lib\\site-packages (from jinja2->spacy<3.1.0,>=3.0.0->de-core-news-sm==3.0.0) (2.0.1)\n",
      "✔ Download and installation successful\n",
      "You can now load the package via spacy.load('de_core_news_sm')\n"
     ]
    }
   ],
   "source": [
    "! python -m spacy download de\n",
    "spacy_de = spacy.load(\"de_core_news_sm\")\n",
    "spacy_en = spacy.load('en_core_news_sm')\n",
    "# spacy_de = spacy.load('de')\n",
    "# spacy_en = spacy.load('en')"
   ]
  },
  {
   "cell_type": "code",
   "execution_count": 2,
   "metadata": {},
   "outputs": [],
   "source": [
    "SEED = 1234\n",
    "\n",
    "def seed_for_everything(SEED):\n",
    "    random.seed(SEED)\n",
    "    np.random.seed(SEED)\n",
    "    torch.manual_seed(SEED)\n",
    "    torch.cuda.manual_seed(SEED)\n",
    "    torch.backends.cudnn.deterministic = True\n",
    "seed_for_everything(SEED)"
   ]
  },
  {
   "cell_type": "code",
   "execution_count": 8,
   "metadata": {},
   "outputs": [],
   "source": [
    "def tokenize_de(text):\n",
    "    # Tokenizes German text from a string into a list of strings\n",
    "    return [tok.text for tok in spacy_de.tokenizer(text)]\n",
    "\n",
    "def tokenize_en(text):\n",
    "    # Tokenizes English text from a string into a list of strings\n",
    "    return [tok.text for tok in spacy_en.tokenizer(text)]"
   ]
  },
  {
   "cell_type": "code",
   "execution_count": null,
   "metadata": {},
   "outputs": [],
   "source": []
  }
 ],
 "metadata": {
  "interpreter": {
   "hash": "a2e8f04d65c62c49dbc0f2adda76bbd103f82c3255fc54c7e3855bd92e2af645"
  },
  "kernelspec": {
   "display_name": "Python 3.7.10 ('pytorch')",
   "language": "python",
   "name": "python3"
  },
  "language_info": {
   "codemirror_mode": {
    "name": "ipython",
    "version": 3
   },
   "file_extension": ".py",
   "mimetype": "text/x-python",
   "name": "python",
   "nbconvert_exporter": "python",
   "pygments_lexer": "ipython3",
   "version": "3.7.10"
  },
  "orig_nbformat": 4
 },
 "nbformat": 4,
 "nbformat_minor": 2
}
