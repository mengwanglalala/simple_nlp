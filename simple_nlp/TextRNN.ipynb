{
 "cells": [
  {
   "cell_type": "code",
   "execution_count": 10,
   "metadata": {},
   "outputs": [],
   "source": [
    "import torch\n",
    "import torch.nn as nn \n",
    "import torch.nn.functional as F \n",
    "import numpy as np\n",
    "import torch.utils.data as Data\n",
    "import torch.optim as optim\n",
    "dtype = torch.FloatTensor"
   ]
  },
  {
   "cell_type": "code",
   "execution_count": 2,
   "metadata": {},
   "outputs": [],
   "source": [
    "sentences = [\"i like dog\", \"i love coffee\", \"i hate milk\"]\n",
    "\n",
    "word_list = \" \".join(sentences).split()\n",
    "vocab = list(set(word_list))\n",
    "word2idx = {w: i for i, w in enumerate(vocab)}\n",
    "idx2word = {i: w for i, w in enumerate(vocab)}\n",
    "n_class = len(vocab)"
   ]
  },
  {
   "cell_type": "code",
   "execution_count": 4,
   "metadata": {},
   "outputs": [],
   "source": [
    "batch_size = 2\n",
    "n_step = 2\n",
    "n_hidden = 5\n",
    "\n",
    "def make_data(sentences):\n",
    "    input_batch = []\n",
    "    target_batch = []\n",
    "\n",
    "    for sen in sentences:\n",
    "        word = sen.split()\n",
    "        input = [word2idx[n] for n in word[:-1]]\n",
    "        target = word2idx[word[-1]]\n",
    "\n",
    "        input_batch.append(np.eye(n_class)[input])\n",
    "        target_batch.append(target)\n",
    "\n",
    "    return input_batch, target_batch\n",
    "\n",
    "input_batch, target_batch = make_data(sentences)\n",
    "input_batch, target_batch = torch.Tensor(input_batch), torch.LongTensor(target_batch)\n",
    "dataset = Data.TensorDataset(input_batch, target_batch)\n",
    "loader = Data.DataLoader(dataset, batch_size, True)"
   ]
  },
  {
   "cell_type": "code",
   "execution_count": 5,
   "metadata": {},
   "outputs": [
    {
     "name": "stdout",
     "output_type": "stream",
     "text": [
      "tensor([[[0., 0., 0., 0., 0., 0., 1.],\n",
      "         [1., 0., 0., 0., 0., 0., 0.]],\n",
      "\n",
      "        [[0., 0., 0., 0., 0., 0., 1.],\n",
      "         [0., 0., 1., 0., 0., 0., 0.]],\n",
      "\n",
      "        [[0., 0., 0., 0., 0., 0., 1.],\n",
      "         [0., 0., 0., 0., 1., 0., 0.]]])\n",
      "torch.Size([3, 2, 7])\n",
      "[[0. 1. 0. 0. 0. 0. 0.]\n",
      " [0. 0. 1. 0. 0. 0. 0.]\n",
      " [0. 0. 0. 0. 0. 1. 0.]]\n"
     ]
    }
   ],
   "source": [
    "print(input_batch)\n",
    "print(input_batch.shape)\n",
    "print(np.eye(7)[[1, 2, 5]])"
   ]
  },
  {
   "cell_type": "code",
   "execution_count": 18,
   "metadata": {},
   "outputs": [],
   "source": [
    "# torch要实现rnn输出需要再加一层fc，RNN模块仅实现了本身的embedding\n",
    "class TextRNN(nn.Module):\n",
    "    def __init__(self):\n",
    "        super(TextRNN, self).__init__()\n",
    "        # output：(seq_len, batch_size, hidden_size) 为每个时间步得到的hidden_state\n",
    "        # hn：(num_layers, batch_size, hidden_size) 为最后一个时间步的hidden_state\n",
    "        self.rnn = nn.RNN(input_size = n_class, hidden_size = n_hidden)\n",
    "        # input_size 指的是每个单词用多少维的向量去编码\n",
    "        # hidden_size 指的是输出维度是多少\n",
    "        # fully connected layer\n",
    "        self.fc = nn.Linear(n_hidden, n_class)\n",
    "\n",
    "    def forward(self, hidden, X):\n",
    "        #print(X.shape)\n",
    "        # x: [batch_size, n_step, n_class] [2, 2, 7]\n",
    "        X = X.transpose(0,1)\n",
    "        #print(X.shape)\n",
    "        # x: [n_step, batch_size, n_class] [2, 2, 7] 2个字符，每个字符的embedding为n_class维度， batchsize大小为2\n",
    "        # hidden : [num_layers * num_directions, batch, hidden_size]\n",
    "        out, hidden = self.rnn(X, hidden)\n",
    "        # [2, 2, 5] [1, 2, 5] # 字符数,batchsize,维度\n",
    "        #print(out.shape,hidden.shape)\n",
    "        out = out[-1]\n",
    "        model = self.fc(out)\n",
    "        return model\n",
    "\n",
    "model = TextRNN()\n",
    "criterion = nn.CrossEntropyLoss()\n",
    "optimizer = optim.Adam(model.parameters(), lr=0.001)"
   ]
  },
  {
   "cell_type": "code",
   "execution_count": 19,
   "metadata": {},
   "outputs": [
    {
     "name": "stdout",
     "output_type": "stream",
     "text": [
      "Epoch: 1000 cost = 0.083223\n",
      "Epoch: 1000 cost = 0.074151\n",
      "Epoch: 2000 cost = 0.013754\n",
      "Epoch: 2000 cost = 0.010926\n",
      "Epoch: 3000 cost = 0.003711\n",
      "Epoch: 3000 cost = 0.003808\n",
      "Epoch: 4000 cost = 0.001386\n",
      "Epoch: 4000 cost = 0.001068\n",
      "Epoch: 5000 cost = 0.000435\n",
      "Epoch: 5000 cost = 0.000515\n"
     ]
    }
   ],
   "source": [
    "# Training\n",
    "for epoch in range(5000):\n",
    "    for x, y in loader:\n",
    "      # hidden : [num_layers * num_directions, batch, hidden_size]\n",
    "      hidden = torch.zeros(1, x.shape[0], n_hidden) # h0\n",
    "      \n",
    "      # x : [batch_size, n_step, n_class]\n",
    "      pred = model(hidden, x)\n",
    "      #break\n",
    "\n",
    "      # pred : [batch_size, n_class], y : [batch_size] (LongTensor, not one-hot)\n",
    "      loss = criterion(pred, y)\n",
    "      if (epoch + 1) % 1000 == 0:\n",
    "          print('Epoch:', '%04d' % (epoch + 1), 'cost =', '{:.6f}'.format(loss))\n",
    "\n",
    "      optimizer.zero_grad()\n",
    "      loss.backward()\n",
    "      optimizer.step()\n",
    "    #break"
   ]
  },
  {
   "cell_type": "code",
   "execution_count": 20,
   "metadata": {},
   "outputs": [
    {
     "name": "stdout",
     "output_type": "stream",
     "text": [
      "[['i', 'like'], ['i', 'love'], ['i', 'hate']] -> ['dog', 'coffee', 'milk']\n"
     ]
    }
   ],
   "source": [
    "input = [sen.split()[:2] for sen in sentences]\n",
    "#   \n",
    "hidden = torch.zeros(1, len(input), n_hidden)\n",
    "predict = model(hidden, input_batch).data.max(1, keepdim=True)[1]\n",
    "print([sen.split()[:2] for sen in sentences], '->', [idx2word[n.item()] for n in predict.squeeze()])"
   ]
  },
  {
   "cell_type": "code",
   "execution_count": null,
   "metadata": {},
   "outputs": [],
   "source": []
  }
 ],
 "metadata": {
  "interpreter": {
   "hash": "a2e8f04d65c62c49dbc0f2adda76bbd103f82c3255fc54c7e3855bd92e2af645"
  },
  "kernelspec": {
   "display_name": "Python 3.7.10 ('pytorch')",
   "language": "python",
   "name": "python3"
  },
  "language_info": {
   "codemirror_mode": {
    "name": "ipython",
    "version": 3
   },
   "file_extension": ".py",
   "mimetype": "text/x-python",
   "name": "python",
   "nbconvert_exporter": "python",
   "pygments_lexer": "ipython3",
   "version": "3.7.10"
  },
  "orig_nbformat": 4
 },
 "nbformat": 4,
 "nbformat_minor": 2
}
