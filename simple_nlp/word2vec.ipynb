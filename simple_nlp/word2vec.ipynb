{
 "cells": [
  {
   "cell_type": "code",
   "execution_count": 1,
   "metadata": {},
   "outputs": [],
   "source": [
    "import torch\n",
    "import torch.nn as nn\n",
    "import torch.nn.functional as F \n",
    "import torch.optim as optim \n",
    "import torch.utils.data as Data \n",
    "import numpy as np\n",
    "\n",
    "device = torch.device(\"cuda\" if torch.cuda.is_available() else \"cpu\")\n",
    "dtype = torch.FloatTensor"
   ]
  },
  {
   "cell_type": "code",
   "execution_count": 2,
   "metadata": {},
   "outputs": [],
   "source": [
    "sentences = [\"jack like dog\", \"jack like cat\", \"jack like animal\",\n",
    "  \"dog cat animal\", \"banana apple cat dog like\", \"dog fish milk like\",\n",
    "  \"dog cat animal like\", \"jack like apple\", \"apple like\", \"jack like banana\",\n",
    "  \"apple banana jack movie book music like\", \"cat dog hate\", \"cat dog like\"]\n",
    "sentence_list = \" \".join(sentences).split() # ['jack', 'like', 'dog']\n",
    "vocab = list(set(sentence_list))\n",
    "word2idx = {w:i for i, w in enumerate(vocab)}\n",
    "vocab_size = len(vocab)"
   ]
  },
  {
   "cell_type": "code",
   "execution_count": 3,
   "metadata": {},
   "outputs": [],
   "source": [
    "window_size = 2\n",
    "batch_size = 8\n",
    "embedding_dim = 2"
   ]
  },
  {
   "cell_type": "code",
   "execution_count": 4,
   "metadata": {},
   "outputs": [],
   "source": [
    "skip_grams = []\n",
    "for idx in range(window_size, len(sentence_list) - window_size):\n",
    "    center = word2idx[sentence_list[idx]]\n",
    "    context_idx = list(range(idx - window_size, idx)) + list(range(idx+1, idx+window_size+1))\n",
    "    context = [word2idx[sentence_list[i]] for i in context_idx]\n",
    "    for w in context:\n",
    "        skip_grams.append([center, w])\n",
    "        \n",
    "    "
   ]
  },
  {
   "cell_type": "code",
   "execution_count": 7,
   "metadata": {},
   "outputs": [],
   "source": [
    "def make_data(skip_grams):\n",
    "    input_data = []\n",
    "    output_data = []\n",
    "    for a ,b in skip_grams:\n",
    "        input_data.append(np.eye(vocab_size)[a])\n",
    "        output_data.append(b)\n",
    "    return input_data, output_data\n"
   ]
  },
  {
   "cell_type": "code",
   "execution_count": 8,
   "metadata": {},
   "outputs": [],
   "source": [
    "input_data, output_data = make_data(skip_grams)\n",
    "input_data, output_data = torch.Tensor(input_data), torch.LongTensor(output_data)\n",
    "dataset = Data.TensorDataset(input_data, output_data)\n",
    "loader = Data.DataLoader(dataset, batch_size, True)"
   ]
  },
  {
   "cell_type": "code",
   "execution_count": 19,
   "metadata": {},
   "outputs": [],
   "source": [
    "class Word2Vec(nn.Module):\n",
    "    def __init__(self):\n",
    "        super(Word2Vec,self).__init__()\n",
    "        self.W = nn.Parameter(torch.randn(vocab_size, 64).type(dtype))\n",
    "        # 也可以直接用linear函数\n",
    "        self.linear = nn.Linear(64,vocab_size,bias=False)\n",
    "    def forward(self, x):\n",
    "        # input: [batch_size, vocab_size]\n",
    "        hidden = torch.mm(x, self.W) #[batch_size, 64]\n",
    "        out = self.linear(hidden)\n",
    "        return out\n",
    "model = Word2Vec().to(device)\n",
    "loss_fn = nn.CrossEntropyLoss().to(device)\n",
    "optimer = optim.Adam(model.parameters(), lr=1e-3)"
   ]
  },
  {
   "cell_type": "code",
   "execution_count": 20,
   "metadata": {},
   "outputs": [
    {
     "name": "stdout",
     "output_type": "stream",
     "text": [
      "1000 0 2.081061601638794\n",
      "1000 1 1.9176640510559082\n",
      "1000 2 1.6850529909133911\n",
      "1000 3 1.734728455543518\n",
      "1000 4 1.8296414613723755\n",
      "1000 5 1.690212607383728\n",
      "1000 6 1.8864331245422363\n",
      "1000 7 1.7912237644195557\n",
      "1000 8 1.9996849298477173\n",
      "1000 9 1.8558003902435303\n",
      "1000 10 2.0582027435302734\n",
      "1000 11 1.6117732524871826\n",
      "1000 12 2.1955080032348633\n",
      "1000 13 1.8311870098114014\n",
      "1000 14 1.5604597330093384\n",
      "1000 15 1.8693006038665771\n",
      "1000 16 1.5873620510101318\n",
      "1000 17 1.9931983947753906\n",
      "1000 18 1.5055879354476929\n",
      "1000 19 1.769067406654358\n",
      "1000 20 2.002713918685913\n",
      "2000 0 2.340306043624878\n",
      "2000 1 1.2512246370315552\n",
      "2000 2 1.935264229774475\n",
      "2000 3 1.9464173316955566\n",
      "2000 4 1.369445562362671\n",
      "2000 5 1.8721437454223633\n",
      "2000 6 2.151810884475708\n",
      "2000 7 1.942744493484497\n",
      "2000 8 1.8113658428192139\n",
      "2000 9 1.5092792510986328\n",
      "2000 10 1.8344688415527344\n",
      "2000 11 1.8459709882736206\n",
      "2000 12 2.052037477493286\n",
      "2000 13 1.6483793258666992\n",
      "2000 14 2.041489362716675\n",
      "2000 15 2.2484686374664307\n",
      "2000 16 1.7400661706924438\n",
      "2000 17 1.5602298974990845\n",
      "2000 18 1.7571967840194702\n",
      "2000 19 1.8271491527557373\n",
      "2000 20 1.6247401237487793\n"
     ]
    }
   ],
   "source": [
    "for epoch in range(2000):\n",
    "  for i, (batch_x, batch_y) in enumerate(loader):\n",
    "    batch_x = batch_x.to(device)\n",
    "    batch_y = batch_y.to(device)\n",
    "    pred = model(batch_x)\n",
    "    loss = loss_fn(pred, batch_y)\n",
    "\n",
    "    if (epoch + 1) % 1000 == 0:\n",
    "      print(epoch + 1, i, loss.item())\n",
    "    \n",
    "    \n",
    "    loss.backward()\n",
    "    optimer.step()\n",
    "    optimer.zero_grad()"
   ]
  },
  {
   "cell_type": "code",
   "execution_count": 21,
   "metadata": {},
   "outputs": [
    {
     "data": {
      "image/png": "[encoded data removed]",
      "text/plain": [
       "<Figure size 432x288 with 1 Axes>"
      ]
     },
     "metadata": {
      "needs_background": "light"
     },
     "output_type": "display_data"
    }
   ],
   "source": [
    "import matplotlib.pyplot as plt\n",
    "for i, label in enumerate(vocab):\n",
    "  W, WT = model.parameters()\n",
    "  x,y = float(W[i][0]), float(W[i][1])\n",
    "  plt.scatter(x, y)\n",
    "  plt.annotate(label, xy=(x, y), xytext=(5, 2), textcoords='offset points', ha='right', va='bottom')\n",
    "plt.show()"
   ]
  },
  {
   "cell_type": "code",
   "execution_count": 30,
   "metadata": {},
   "outputs": [
    {
     "name": "stderr",
     "output_type": "stream",
     "text": [
      "2023-04-25 16:49:53,082 : INFO : collecting all words and their counts\n",
      "2023-04-25 16:49:53,083 : INFO : PROGRESS: at sentence #0, processed 0 words, keeping 0 word types\n",
      "2023-04-25 16:49:53,083 : INFO : collected 15 word types from a corpus of 16 raw words and 2 sentences\n",
      "2023-04-25 16:49:53,083 : INFO : Creating a fresh vocabulary\n",
      "2023-04-25 16:49:53,084 : INFO : Word2Vec lifecycle event {'msg': 'effective_min_count=0 retains 15 unique words (100.0%% of original 15, drops 0)', 'datetime': '2023-04-25T16:49:53.084113', 'gensim': '4.0.1', 'python': '3.7.10 (default, Feb 26 2021, 13:06:18) [MSC v.1916 64 bit (AMD64)]', 'platform': 'Windows-10-10.0.19041-SP0', 'event': 'prepare_vocab'}\n",
      "2023-04-25 16:49:53,085 : INFO : Word2Vec lifecycle event {'msg': 'effective_min_count=0 leaves 16 word corpus (100.0%% of original 16, drops 0)', 'datetime': '2023-04-25T16:49:53.085115', 'gensim': '4.0.1', 'python': '3.7.10 (default, Feb 26 2021, 13:06:18) [MSC v.1916 64 bit (AMD64)]', 'platform': 'Windows-10-10.0.19041-SP0', 'event': 'prepare_vocab'}\n",
      "2023-04-25 16:49:53,086 : INFO : deleting the raw counts dictionary of 15 items\n",
      "2023-04-25 16:49:53,086 : INFO : sample=0.001 downsamples 15 most-common words\n",
      "2023-04-25 16:49:53,087 : INFO : Word2Vec lifecycle event {'msg': 'downsampling leaves estimated 2.1897609278942753 word corpus (13.7%% of prior 16)', 'datetime': '2023-04-25T16:49:53.087115', 'gensim': '4.0.1', 'python': '3.7.10 (default, Feb 26 2021, 13:06:18) [MSC v.1916 64 bit (AMD64)]', 'platform': 'Windows-10-10.0.19041-SP0', 'event': 'prepare_vocab'}\n",
      "2023-04-25 16:49:53,087 : INFO : estimated required memory for 15 words and 100 dimensions: 19500 bytes\n",
      "2023-04-25 16:49:53,088 : INFO : resetting layer weights\n",
      "2023-04-25 16:49:53,089 : INFO : Word2Vec lifecycle event {'update': False, 'trim_rule': 'None', 'datetime': '2023-04-25T16:49:53.089114', 'gensim': '4.0.1', 'python': '3.7.10 (default, Feb 26 2021, 13:06:18) [MSC v.1916 64 bit (AMD64)]', 'platform': 'Windows-10-10.0.19041-SP0', 'event': 'build_vocab'}\n",
      "2023-04-25 16:49:53,090 : INFO : Word2Vec lifecycle event {'msg': 'training model with 3 workers on 15 vocabulary and 100 features, using sg=0 hs=0 sample=0.001 negative=5 window=5', 'datetime': '2023-04-25T16:49:53.090115', 'gensim': '4.0.1', 'python': '3.7.10 (default, Feb 26 2021, 13:06:18) [MSC v.1916 64 bit (AMD64)]', 'platform': 'Windows-10-10.0.19041-SP0', 'event': 'train'}\n",
      "2023-04-25 16:49:53,093 : INFO : worker thread finished; awaiting finish of 2 more threads\n",
      "2023-04-25 16:49:53,093 : INFO : worker thread finished; awaiting finish of 1 more threads\n",
      "2023-04-25 16:49:53,093 : INFO : worker thread finished; awaiting finish of 0 more threads\n",
      "2023-04-25 16:49:53,094 : INFO : EPOCH - 1 : training on 16 raw words (2 effective words) took 0.0s, 1142 effective words/s\n",
      "2023-04-25 16:49:53,097 : INFO : worker thread finished; awaiting finish of 2 more threads\n",
      "2023-04-25 16:49:53,097 : INFO : worker thread finished; awaiting finish of 1 more threads\n",
      "2023-04-25 16:49:53,097 : INFO : worker thread finished; awaiting finish of 0 more threads\n",
      "2023-04-25 16:49:53,098 : INFO : EPOCH - 2 : training on 16 raw words (3 effective words) took 0.0s, 1835 effective words/s\n",
      "2023-04-25 16:49:53,100 : INFO : worker thread finished; awaiting finish of 2 more threads\n",
      "2023-04-25 16:49:53,101 : INFO : worker thread finished; awaiting finish of 1 more threads\n",
      "2023-04-25 16:49:53,101 : INFO : worker thread finished; awaiting finish of 0 more threads\n",
      "2023-04-25 16:49:53,101 : INFO : EPOCH - 3 : training on 16 raw words (1 effective words) took 0.0s, 614 effective words/s\n",
      "2023-04-25 16:49:53,104 : INFO : worker thread finished; awaiting finish of 2 more threads\n",
      "2023-04-25 16:49:53,105 : INFO : worker thread finished; awaiting finish of 1 more threads\n",
      "2023-04-25 16:49:53,105 : INFO : worker thread finished; awaiting finish of 0 more threads\n",
      "2023-04-25 16:49:53,105 : INFO : EPOCH - 4 : training on 16 raw words (2 effective words) took 0.0s, 1292 effective words/s\n",
      "2023-04-25 16:49:53,108 : INFO : worker thread finished; awaiting finish of 2 more threads\n",
      "2023-04-25 16:49:53,109 : INFO : worker thread finished; awaiting finish of 1 more threads\n",
      "2023-04-25 16:49:53,109 : INFO : worker thread finished; awaiting finish of 0 more threads\n",
      "2023-04-25 16:49:53,109 : INFO : EPOCH - 5 : training on 16 raw words (2 effective words) took 0.0s, 1138 effective words/s\n",
      "2023-04-25 16:49:53,110 : INFO : Word2Vec lifecycle event {'msg': 'training on 80 raw words (10 effective words) took 0.0s, 511 effective words/s', 'datetime': '2023-04-25T16:49:53.110114', 'gensim': '4.0.1', 'python': '3.7.10 (default, Feb 26 2021, 13:06:18) [MSC v.1916 64 bit (AMD64)]', 'platform': 'Windows-10-10.0.19041-SP0', 'event': 'train'}\n",
      "2023-04-25 16:49:53,110 : INFO : Word2Vec lifecycle event {'params': 'Word2Vec(vocab=15, vector_size=100, alpha=0.025)', 'datetime': '2023-04-25T16:49:53.110114', 'gensim': '4.0.1', 'python': '3.7.10 (default, Feb 26 2021, 13:06:18) [MSC v.1916 64 bit (AMD64)]', 'platform': 'Windows-10-10.0.19041-SP0', 'event': 'created'}\n"
     ]
    }
   ],
   "source": [
    "# 引入 word2vec\n",
    "from gensim.models import word2vec\n",
    "\n",
    "# 引入日志配置\n",
    "import logging\n",
    "\n",
    "logging.basicConfig(format='%(asctime)s : %(levelname)s : %(message)s', level=logging.INFO)\n",
    "\n",
    "# 引入数据集\n",
    "raw_sentences = [\"the quick brown fox jumps over the lazy dogs\",\"yoyoyo you go home now to sleep\"]\n",
    "\n",
    "# 切分词汇\n",
    "sentences= [s.encode('utf-8').split() for s in raw_sentences]\n",
    "\n",
    "# 构建模型\n",
    "model = word2vec.Word2Vec(sentences, min_count=0)#，Word2Vec在训练时会忽略词频小于该属性值的词\n",
    "\n"
   ]
  },
  {
   "cell_type": "code",
   "execution_count": 22,
   "metadata": {},
   "outputs": [
    {
     "data": {
      "text/plain": [
       "[[b'the',\n",
       "  b'quick',\n",
       "  b'brown',\n",
       "  b'fox',\n",
       "  b'jumps',\n",
       "  b'over',\n",
       "  b'the',\n",
       "  b'lazy',\n",
       "  b'dogs'],\n",
       " [b'yoyoyo', b'you', b'go', b'home', b'now', b'to', b'sleep']]"
      ]
     },
     "execution_count": 22,
     "metadata": {},
     "output_type": "execute_result"
    }
   ],
   "source": [
    "sentences"
   ]
  },
  {
   "cell_type": "code",
   "execution_count": 28,
   "metadata": {},
   "outputs": [],
   "source": [
    "# y1 = model.wv.similarity(b\"dogs\", b'you')\n",
    "# print(y1)"
   ]
  },
  {
   "cell_type": "code",
   "execution_count": 29,
   "metadata": {},
   "outputs": [],
   "source": [
    "# vector = model.wv['dogs'] # get numpy vector of a word\n",
    "# sims = model.wv.most_similar('computer', topn=10) # get other similar\n",
    "# vector"
   ]
  },
  {
   "cell_type": "code",
   "execution_count": null,
   "metadata": {},
   "outputs": [],
   "source": []
  }
 ],
 "metadata": {
  "interpreter": {
   "hash": "a2e8f04d65c62c49dbc0f2adda76bbd103f82c3255fc54c7e3855bd92e2af645"
  },
  "kernelspec": {
   "display_name": "Python 3.7.10 ('pytorch')",
   "language": "python",
   "name": "python3"
  },
  "language_info": {
   "codemirror_mode": {
    "name": "ipython",
    "version": 3
   },
   "file_extension": ".py",
   "mimetype": "text/x-python",
   "name": "python",
   "nbconvert_exporter": "python",
   "pygments_lexer": "ipython3",
   "version": "3.7.10"
  },
  "orig_nbformat": 4
 },
 "nbformat": 4,
 "nbformat_minor": 2
}
