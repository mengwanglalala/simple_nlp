{
 "cells": [
  {
   "cell_type": "code",
   "execution_count": 1,
   "metadata": {},
   "outputs": [],
   "source": [
    "import torch\n",
    "import numpy as np\n",
    "import torch.utils.data as Data\n",
    "import torch.nn as nn \n",
    "import torch.optim as optim"
   ]
  },
  {
   "cell_type": "code",
   "execution_count": 2,
   "metadata": {},
   "outputs": [],
   "source": [
    "char_arr = [c for c in 'abcdefghijklmnopqrstuvwxyz']\n",
    "word2idx = {n: i for i, n in enumerate(char_arr)}\n",
    "idx2word = {i: w for i, w in enumerate(char_arr)}\n",
    "n_class = len(word2idx) # number of class(=number of vocab)\n",
    "\n",
    "seq_data = ['make', 'need', 'coal', 'word', 'love', 'hate', 'live', 'home', 'hash', 'star']\n",
    "\n",
    "# TextLSTM Parameters\n",
    "n_step = len(seq_data[0]) - 1 # (=3)\n",
    "n_hidden = 128\n",
    "\n",
    "def make_data(seq_data):\n",
    "    input_batch, target_batch = [], []\n",
    "\n",
    "    for seq in seq_data:\n",
    "        input = [word2idx[n] for n in seq[:-1]] # 'm', 'a' , 'k' is input\n",
    "        target = word2idx[seq[-1]] # 'e' is target\n",
    "        input_batch.append(np.eye(n_class)[input])\n",
    "        target_batch.append(target)\n",
    "\n",
    "    return torch.Tensor(input_batch), torch.LongTensor(target_batch)\n",
    "\n",
    "\n",
    "\n",
    "input_batch, target_batch = make_data(seq_data)\n",
    "dataset = Data.TensorDataset(input_batch, target_batch)\n",
    "loader = Data.DataLoader(dataset, batch_size=3, shuffle = True)\n",
    "\n"
   ]
  },
  {
   "cell_type": "markdown",
   "metadata": {},
   "source": [
    "- 输入数据包括input, (h_0, c_0):\n",
    "> input: shape = [seq_length, batch_size, input_size]的张量\n",
    "\n",
    "> h_0: shape = [num_layers * num_directions, batch, hidden_size]的张量，它包含了在当前这个batch_size中每个句子的初始隐藏状态，num_layers就是LSTM的层数，如果bidirectional = True,则num_directions = 2,否则就是１，表示只有一个方向\n",
    "\n",
    "> c_0: 与h_0的形状相同，它包含的是在当前这个batch_size中的每个句子的初始细胞状态。h_0,c_0如果不提供，那么默认是０\n",
    "\n",
    "- 输出数据包括output, (h_t, c_t):\n",
    "\n",
    "> output.shape = [seq_length, batch_size, num_directions * hidden_size]\n",
    "\n",
    "> 它包含的LSTM的最后一层的输出特征(h_t),ｔ是batch_size中每个句子的长度.\n",
    "\n",
    "> h_t.shape = [num_directions * num_layers, batch, hidden_size]\n",
    "\n",
    "> c_t.shape = h_t.shape\n"
   ]
  },
  {
   "cell_type": "code",
   "execution_count": 7,
   "metadata": {},
   "outputs": [],
   "source": [
    "class TextLSTM(nn.Module):\n",
    "    def __init__(self):\n",
    "        super(TextLSTM, self).__init__()\n",
    "        '''\n",
    "        input_size: 输入数据的特征维数，通常就是embedding_dim(词向量的维度)\n",
    "        hidden_size: LSTM中隐层的维度\n",
    "        num_layers: 循环神经网络的层数\n",
    "        '''\n",
    "        self.lstm = nn.LSTM(input_size=n_class, hidden_size=n_hidden)\n",
    "        # fc\n",
    "        self.fc = nn.Linear(n_hidden, n_class)\n",
    "\n",
    "    def forward(self, X):\n",
    "        # X: [batch_size, n_step, n_class]\n",
    "        batch_size = X.shape[0]\n",
    "        input = X.transpose(0, 1)  # X : [n_step, batch_size, n_class]\n",
    "\n",
    "        hidden_state = torch.zeros(1, batch_size, n_hidden)   # [num_layers(=1) * num_directions(=1), batch_size, n_hidden]\n",
    "        cell_state = torch.zeros(1, batch_size, n_hidden)    # [num_layers(=1) * num_directions(=1), batch_size, n_hidden]\n",
    "\n",
    "        outputs, (_, _) = self.lstm(input, (hidden_state, cell_state))\n",
    "        outputs = outputs[-1]  # [batch_size, n_hidden]\n",
    "        model = self.fc(outputs)\n",
    "        return model"
   ]
  },
  {
   "cell_type": "code",
   "execution_count": 8,
   "metadata": {},
   "outputs": [],
   "source": [
    "model = TextLSTM()\n",
    "criterion = nn.CrossEntropyLoss()\n",
    "optimizer = optim.Adam(model.parameters(), lr=0.001)"
   ]
  },
  {
   "cell_type": "code",
   "execution_count": 9,
   "metadata": {},
   "outputs": [
    {
     "name": "stdout",
     "output_type": "stream",
     "text": [
      "Epoch: 0100 cost = 0.044431\n",
      "Epoch: 0100 cost = 0.020772\n",
      "Epoch: 0100 cost = 0.009116\n",
      "Epoch: 0100 cost = 0.310088\n",
      "Epoch: 0200 cost = 0.004284\n",
      "Epoch: 0200 cost = 0.002145\n",
      "Epoch: 0200 cost = 0.025762\n",
      "Epoch: 0200 cost = 0.001766\n",
      "Epoch: 0300 cost = 0.006433\n",
      "Epoch: 0300 cost = 0.001788\n",
      "Epoch: 0300 cost = 0.004324\n",
      "Epoch: 0300 cost = 0.002038\n",
      "Epoch: 0400 cost = 0.002484\n",
      "Epoch: 0400 cost = 0.000199\n",
      "Epoch: 0400 cost = 0.003649\n",
      "Epoch: 0400 cost = 0.001134\n",
      "Epoch: 0500 cost = 0.002063\n",
      "Epoch: 0500 cost = 0.000298\n",
      "Epoch: 0500 cost = 0.001528\n",
      "Epoch: 0500 cost = 0.000287\n",
      "Epoch: 0600 cost = 0.000237\n",
      "Epoch: 0600 cost = 0.001984\n",
      "Epoch: 0600 cost = 0.000206\n",
      "Epoch: 0600 cost = 0.000701\n",
      "Epoch: 0700 cost = 0.000731\n",
      "Epoch: 0700 cost = 0.000760\n",
      "Epoch: 0700 cost = 0.000178\n",
      "Epoch: 0700 cost = 0.000505\n",
      "Epoch: 0800 cost = 0.000067\n",
      "Epoch: 0800 cost = 0.000708\n",
      "Epoch: 0800 cost = 0.000519\n",
      "Epoch: 0800 cost = 0.000041\n",
      "Epoch: 0900 cost = 0.000408\n",
      "Epoch: 0900 cost = 0.000105\n",
      "Epoch: 0900 cost = 0.000413\n",
      "Epoch: 0900 cost = 0.000083\n",
      "Epoch: 1000 cost = 0.000260\n",
      "Epoch: 1000 cost = 0.000348\n",
      "Epoch: 1000 cost = 0.000079\n",
      "Epoch: 1000 cost = 0.000024\n"
     ]
    }
   ],
   "source": [
    "# Training\n",
    "for epoch in range(1000):\n",
    "  for x, y in loader:\n",
    "    pred = model(x)\n",
    "    loss = criterion(pred, y)\n",
    "    if (epoch + 1) % 100 == 0:\n",
    "        print('Epoch:', '%04d' % (epoch + 1), 'cost =', '{:.6f}'.format(loss))\n",
    "\n",
    "    optimizer.zero_grad()\n",
    "    loss.backward()\n",
    "    optimizer.step()"
   ]
  },
  {
   "cell_type": "code",
   "execution_count": 10,
   "metadata": {},
   "outputs": [
    {
     "name": "stdout",
     "output_type": "stream",
     "text": [
      "['mak', 'nee', 'coa', 'wor', 'lov', 'hat', 'liv', 'hom', 'has', 'sta'] -> ['e', 'd', 'l', 'd', 'e', 'e', 'e', 'e', 'h', 'r']\n"
     ]
    }
   ],
   "source": [
    "inputs = [sen[:3] for sen in seq_data]\n",
    "predict = model(input_batch).data.max(1, keepdim=True)[1]\n",
    "print(inputs, '->', [idx2word[n.item()] for n in predict.squeeze()])"
   ]
  },
  {
   "cell_type": "code",
   "execution_count": null,
   "metadata": {},
   "outputs": [],
   "source": []
  }
 ],
 "metadata": {
  "interpreter": {
   "hash": "a2e8f04d65c62c49dbc0f2adda76bbd103f82c3255fc54c7e3855bd92e2af645"
  },
  "kernelspec": {
   "display_name": "Python 3.7.10 ('pytorch')",
   "language": "python",
   "name": "python3"
  },
  "language_info": {
   "codemirror_mode": {
    "name": "ipython",
    "version": 3
   },
   "file_extension": ".py",
   "mimetype": "text/x-python",
   "name": "python",
   "nbconvert_exporter": "python",
   "pygments_lexer": "ipython3",
   "version": "3.7.10"
  },
  "orig_nbformat": 4
 },
 "nbformat": 4,
 "nbformat_minor": 2
}
