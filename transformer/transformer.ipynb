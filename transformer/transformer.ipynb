{
 "cells": [
  {
   "cell_type": "code",
   "execution_count": 1,
   "metadata": {},
   "outputs": [],
   "source": [
    "import torch\n",
    "import torch.utils.data as Data\n"
   ]
  },
  {
   "cell_type": "code",
   "execution_count": 2,
   "metadata": {},
   "outputs": [],
   "source": [
    "# Encoder_input    Decoder_input        Decoder_output\n",
    "sentences = [['我 是 学 生 P', 'S I am a student', 'I am a student E'],         # S: 开始符号\n",
    "             ['我 喜 欢 学 习', 'S I like learning P', 'I like learning P E'],  # E: 结束符号\n",
    "             ['我 是 男 生 P', 'S I am a boy', 'I am a boy E']]                 # P: 占位符号，如果当前句子不足固定长度用P占位\n",
    "\n",
    "src_vocab = {'P': 0, '我': 1, '是': 2, '学': 3, '生': 4, '喜': 5, '欢': 6, '习': 7, '男': 8}  # 词源字典  字：索引\n",
    "tgt_vocab = {'P': 0, 'S': 1, 'E': 2, 'I': 3, 'am': 4, 'a': 5, 'student': 6, 'like': 7, 'learning': 8, 'boy': 9}"
   ]
  },
  {
   "cell_type": "code",
   "execution_count": 7,
   "metadata": {},
   "outputs": [
    {
     "name": "stdout",
     "output_type": "stream",
     "text": [
      "{0: 'P', 1: '我', 2: '是', 3: '学', 4: '生', 5: '喜', 6: '欢', 7: '习', 8: '男'}\n",
      "{0: 'P', 1: 'S', 2: 'E', 3: 'I', 4: 'am', 5: 'a', 6: 'student', 7: 'like', 8: 'learning', 9: 'boy'}\n"
     ]
    }
   ],
   "source": [
    "src_idx2word = {src_vocab[key]: key for key in src_vocab}\n",
    "tgt_idx2word = {tgt_vocab[key]: key for key in tgt_vocab}\n",
    "print(src_idx2word)\n",
    "print(tgt_idx2word)"
   ]
  },
  {
   "cell_type": "code",
   "execution_count": 63,
   "metadata": {},
   "outputs": [
    {
     "data": {
      "text/plain": [
       "5"
      ]
     },
     "execution_count": 63,
     "metadata": {},
     "output_type": "execute_result"
    }
   ],
   "source": [
    "src_vocab_len = len(src_idx2word)\n",
    "tgt_vocab_len = len(tgt_idx2word)\n",
    "\n",
    "src_len = max([len(sentences[i][0].split(' ')) for i in range(len(sentences))])\n",
    "tgt_len = max([len(sentences[i][-1].split(' ')) for i in range(len(sentences))])\n",
    "src_len"
   ]
  },
  {
   "cell_type": "code",
   "execution_count": 18,
   "metadata": {},
   "outputs": [
    {
     "data": {
      "text/plain": [
       "(tensor([[1, 2, 3, 4, 0],\n",
       "         [1, 5, 6, 3, 7],\n",
       "         [1, 2, 8, 4, 0]]),\n",
       " tensor([[1, 3, 4, 5, 6],\n",
       "         [1, 3, 7, 8, 0],\n",
       "         [1, 3, 4, 5, 9]]),\n",
       " tensor([[3, 4, 5, 6, 2],\n",
       "         [3, 7, 8, 0, 2],\n",
       "         [3, 4, 5, 9, 2]]))"
      ]
     },
     "execution_count": 18,
     "metadata": {},
     "output_type": "execute_result"
    }
   ],
   "source": [
    "# 把sentence转化为字典索引，翻译任务本质就是id映射任务\n",
    "def make_data():\n",
    "    enc_inputs, dec_inputs, dec_outputs = [], [], []\n",
    "    for i in range(len(sentences)):\n",
    "        enc_input = [[src_vocab[n] for n in sentences[i][0].split()]]\n",
    "        dec_input = [[tgt_vocab[n] for n in sentences[i][1].split()]]\n",
    "        dec_output = [[tgt_vocab[n] for n in sentences[i][2].split()]]\n",
    "        enc_inputs.extend(enc_input)\n",
    "        dec_inputs.extend(dec_input)\n",
    "        dec_outputs.extend(dec_output)\n",
    "    return torch.LongTensor(enc_inputs), torch.LongTensor(dec_inputs), torch.LongTensor(dec_outputs)\n",
    "\n",
    "make_data()"
   ]
  },
  {
   "cell_type": "code",
   "execution_count": 22,
   "metadata": {},
   "outputs": [],
   "source": [
    "# 自定义数据集\n",
    "class MyDataSet(Data.Dataset):\n",
    "    def __init__(self, data_input):\n",
    "        super(MyDataSet, self).__init__()\n",
    "        self.enc_input = data_input[0]\n",
    "        self.dec_input = data_input[1]\n",
    "        self.dec_output = data_input[2]\n",
    "    def __len__(self):\n",
    "        return len(self.enc_input)\n",
    "    def __getitem__(self,idx):\n",
    "        return self.enc_input[idx], self.dec_input[idx], self.dec_output[idx]\n"
   ]
  },
  {
   "cell_type": "code",
   "execution_count": 27,
   "metadata": {},
   "outputs": [],
   "source": [
    "import torch\n",
    "import torch.nn as nn\n",
    "import torch.nn.functional as F\n",
    "import numpy as np\n",
    "datasetes = MyDataSet(make_data())\n",
    "loader = Data.DataLoader(datasetes,2,True)\n",
    "d_model = 512   # 字 Embedding 的维度\n",
    "d_ff = 2048     # 前向传播隐藏层维度\n",
    "d_k = d_v = 64  # K(=Q), V的维度 \n",
    "n_layers = 6    # 有多少个encoder和decoder\n",
    "n_heads = 8     # Multi-Head Attention设置为8"
   ]
  },
  {
   "cell_type": "code",
   "execution_count": 28,
   "metadata": {},
   "outputs": [],
   "source": [
    "# 定义位置信息\n",
    "class PositionalEncoding(nn.Module):\n",
    "    def __init__(self, d_model, dropout = 0.1, max_len = 5000):\n",
    "        super(PositionalEncoding, self).__init__()\n",
    "        self.dropout = nn.Dropout(p=dropout) \n",
    "        pos_table = np.array([\n",
    "        [pos / np.power(10000, 2 * i / d_model) for i in range(d_model)]\n",
    "        if pos != 0 else np.zeros(d_model) for pos in range(max_len)])\n",
    "        pos_table[1:, 0::2] = np.sin(pos_table[1:, 0::2])                  # 字嵌入维度为偶数时\n",
    "        pos_table[1:, 1::2] = np.cos(pos_table[1:, 1::2])                  # 字嵌入维度为奇数时\n",
    "        self.pos_table = torch.FloatTensor(pos_table).cuda()               # enc_inputs: [seq_len, d_model]\n",
    "\n",
    "    def forward(self,x):\n",
    "        x += self.pos_table[:x.size(1),:]\n",
    "        return self.dropout(x.cuda())\n",
    "\n"
   ]
  },
  {
   "cell_type": "markdown",
   "metadata": {},
   "source": [
    "计算注意力信息，矩阵会拆分成8个小矩阵。细节请看2.2章。注意传入的input_Q, input_K, input_V，在Encoder和Decoder的第一次调用传入的三个矩阵是相同的，但Decoder的第二次调用传入的三个矩阵input_Q 等于 input_K 不等于 input_V。"
   ]
  },
  {
   "cell_type": "code",
   "execution_count": 51,
   "metadata": {},
   "outputs": [],
   "source": [
    "class ScaledDotProductAttention(nn.Module):\n",
    "    def __init__(self):\n",
    "        super(ScaledDotProductAttention, self).__init__()\n",
    "\n",
    "    def forward(self, Q, K, V, attn_mask):                             # Q: [batch_size, n_heads, len_q, d_k]\n",
    "                                                                       # K: [batch_size, n_heads, len_k, d_k]\n",
    "                                                                       # V: [batch_size, n_heads, len_v(=len_k), d_v]\n",
    "                                                                       # attn_mask: [batch_size, n_heads, seq_len, seq_len]\n",
    "        scores = torch.matmul(Q, K.transpose(-1, -2)) / np.sqrt(d_k)   # scores : [batch_size, n_heads, len_q, len_k]\n",
    "        scores.masked_fill_(attn_mask, -1e9)                           # 如果时停用词P就等于 0 \n",
    "        attn = nn.Softmax(dim=-1)(scores)\n",
    "        context = torch.matmul(attn, V)                                # [batch_size, n_heads, len_q, d_v]\n",
    "        return context, attn\n",
    "\n",
    "class MultiHeadAttention(nn.Module):\n",
    "    def __init__(self):\n",
    "        super(MultiHeadAttention, self).__init__()\n",
    "        self.W_Q = nn.Linear(d_model, d_k*n_heads, bias = False)\n",
    "        self.W_K = nn.Linear(d_model, d_k*n_heads, bias = False)\n",
    "        self.W_V = nn.Linear(d_model, d_v*n_heads, bias = False)\n",
    "        self.fc = nn.Linear(d_v*n_heads, d_model, bias = False)\n",
    "    def forward(self, input_Q, input_K, input_V, attn_mask):\n",
    "        residual, batch_size = input_Q, input_Q.size(0)\n",
    "        Q = self.W_Q(input_Q).view(batch_size, -1, n_heads, d_k).transpose(1,2)  # Q: [batch_size, n_heads, len_q, d_k]\n",
    "        K = self.W_K(input_K).view(batch_size, -1, n_heads, d_k).transpose(1,2)  # K: [batch_size, n_heads, len_k, d_k]\n",
    "        V = self.W_V(input_V).view(batch_size, -1, n_heads, d_v).transpose(1,2)  # V: [batch_size, n_heads, len_v(=len_k), d_v]\n",
    "        attn_mask = attn_mask.unsqueeze(1).repeat(1, n_heads, 1, 1)              # attn_mask : [batch_size, n_heads, seq_len, seq_len]\n",
    "        context, attn = ScaledDotProductAttention()(Q, K, V, attn_mask)          # context: [batch_size, n_heads, len_q, d_v]\n",
    "        context = context.transpose(1, 2).reshape(batch_size, -1, n_heads * d_v) # context: [batch_size, len_q, n_heads * d_v]\n",
    "        output = self.fc(context)                                                # [batch_size, len_q, d_model]\n",
    "        return nn.LayerNorm(d_model).cuda()(output + residual), attn\n",
    "\n",
    "\n"
   ]
  },
  {
   "cell_type": "code",
   "execution_count": 52,
   "metadata": {},
   "outputs": [],
   "source": [
    "# 前馈神经网络\n",
    "class PoswiseFeedForwardNet(nn.Module):\n",
    "    def __init__(self):\n",
    "        super(PoswiseFeedForwardNet,self).__init__()\n",
    "        self.fc = nn.Sequential(\n",
    "            nn.Linear(d_model, d_ff, bias=False),\n",
    "            nn.ReLU(),\n",
    "            nn.Linear(d_ff, d_model, bias=False)\n",
    "        )\n",
    "    def forward(self,x):\n",
    "        residual = x\n",
    "        out = self.fc(x)\n",
    "        return nn.LayerNorm(d_model).cuda()(out+residual)\n"
   ]
  },
  {
   "cell_type": "code",
   "execution_count": 53,
   "metadata": {},
   "outputs": [],
   "source": [
    "class EncoderLayer(nn.Module):\n",
    "    def __init__(self):\n",
    "        super(EncoderLayer, self).__init__()\n",
    "        self.enc_self_attn = MultiHeadAttention()                                     # 多头注意力机制\n",
    "        self.pos_ffn = PoswiseFeedForwardNet()                                        # 前馈神经网络\n",
    "\n",
    "    def forward(self, enc_inputs, enc_self_attn_mask):                                # enc_inputs: [batch_size, src_len, d_model]\n",
    "        #输入3个enc_inputs分别与W_q、W_k、W_v相乘得到Q、K、V                          # enc_self_attn_mask: [batch_size, src_len, src_len]\n",
    "        enc_outputs, attn = self.enc_self_attn(enc_inputs, enc_inputs, enc_inputs,    # enc_outputs: [batch_size, src_len, d_model], \n",
    "                                               enc_self_attn_mask)                    # attn: [batch_size, n_heads, src_len, src_len]                                                                   \n",
    "        enc_outputs = self.pos_ffn(enc_outputs)                                       # enc_outputs: [batch_size, src_len, d_model]\n",
    "        return enc_outputs, attn"
   ]
  },
  {
   "cell_type": "code",
   "execution_count": 54,
   "metadata": {},
   "outputs": [],
   "source": [
    "def get_attn_pad_mask(seq_q, seq_k):                       # seq_q: [batch_size, seq_len] ,seq_k: [batch_size, seq_len]\n",
    "    batch_size, len_q = seq_q.size()\n",
    "    batch_size, len_k = seq_k.size()\n",
    "    pad_attn_mask = seq_k.data.eq(0).unsqueeze(1)          # 判断 输入那些含有P(=0),用1标记 ,[batch_size, 1, len_k]\n",
    "    return pad_attn_mask.expand(batch_size, len_q, len_k)  # 扩展成多维度\n",
    "\n",
    "class Encoder(nn.Module):\n",
    "    def __init__(self):\n",
    "        super(Encoder, self).__init__()\n",
    "        self.src_emb = nn.Embedding(src_vocab_len, d_model)                     # 把字转换字向量 \n",
    "        self.pos_emb = PositionalEncoding(d_model)                               # 加入位置信息\n",
    "        self.layers = nn.ModuleList([EncoderLayer() for _ in range(n_layers)])\n",
    "\n",
    "    def forward(self, enc_inputs):                                               # enc_inputs: [batch_size, src_len]\n",
    "        enc_outputs = self.src_emb(enc_inputs)                                   # enc_outputs: [batch_size, src_len, d_model]\n",
    "        enc_outputs = self.pos_emb(enc_outputs)                                  # enc_outputs: [batch_size, src_len, d_model]   \n",
    "        enc_self_attn_mask = get_attn_pad_mask(enc_inputs, enc_inputs)           # enc_self_attn_mask: [batch_size, src_len, src_len]\n",
    "        enc_self_attns = []\n",
    "        for layer in self.layers:\n",
    "            enc_outputs, enc_self_attn = layer(enc_outputs, enc_self_attn_mask)  # enc_outputs :   [batch_size, src_len, d_model], \n",
    "                                                                                 # enc_self_attn : [batch_size, n_heads, src_len, src_len]\n",
    "            enc_self_attns.append(enc_self_attn)\n",
    "        return enc_outputs, enc_self_attns"
   ]
  },
  {
   "cell_type": "code",
   "execution_count": 55,
   "metadata": {},
   "outputs": [],
   "source": [
    "class DecoderLayer(nn.Module):\n",
    "    def __init__(self):\n",
    "        super(DecoderLayer,self).__init__()\n",
    "        self.dec_self_attn = MultiHeadAttention()\n",
    "        self.dec_enc_attn = MultiHeadAttention()\n",
    "        self.pos_ffn = PoswiseFeedForwardNet()\n",
    "    def forward(self,dec_inputs, enc_outputs, dec_self_attn_mask, dec_enc_attn_mask):\n",
    "        dec_out, dec_self_attn = self.dec_self_attn(dec_inputs, dec_inputs, dec_inputs, dec_self_attn_mask)\n",
    "\n",
    "        dec_out, dec_enc_attn = self.dec_enc_attn(dec_out, enc_outputs, enc_outputs, dec_enc_attn_mask)\n",
    "\n",
    "        dec_out = self.pos_ffn(dec_out)\n",
    "        return dec_out, dec_self_attn, dec_enc_attn"
   ]
  },
  {
   "cell_type": "code",
   "execution_count": 56,
   "metadata": {},
   "outputs": [],
   "source": [
    "# decoder 输入mask\n",
    "def get_attn_subsequence_mask(seq):                               # seq: [batch_size, tgt_len]\n",
    "    attn_shape = [seq.size(0), seq.size(1), seq.size(1)]\n",
    "    subsequence_mask = np.triu(np.ones(attn_shape), k=1)          # 生成上三角矩阵,[batch_size, tgt_len, tgt_len]\n",
    "    subsequence_mask = torch.from_numpy(subsequence_mask).byte()  #  [batch_size, tgt_len, tgt_len]\n",
    "    return subsequence_mask     \n",
    "\n",
    "class Decoder(nn.Module):\n",
    "    def __init__(self):\n",
    "        super(Decoder,self).__init__()\n",
    "        self.tgt_emb = nn.Embedding(tgt_vocab_len, d_model)\n",
    "        self.pos_emb = PositionalEncoding(d_model)\n",
    "        self.layers = nn.ModuleList([DecoderLayer() for _ in range(n_layers)])\n",
    "\n",
    "    def forward(self, dec_inputs, enc_inputs, enc_outputs):\n",
    "        dec_outputs = self.tgt_emb(dec_inputs)\n",
    "        dec_outputs = self.pos_emb(dec_outputs).cuda()\n",
    "        dec_self_attn_pad_mask = get_attn_pad_mask(dec_inputs, dec_inputs).cuda()\n",
    "        dec_self_attn_subsequence_mask =  get_attn_subsequence_mask(dec_inputs).cuda()     # [batch_size, tgt_len, tgt_len]\n",
    "        dec_self_attn_mask = torch.gt((dec_self_attn_pad_mask + \n",
    "                                       dec_self_attn_subsequence_mask), 0).cuda()         # [batch_size, tgt_len, tgt_len]\n",
    "        dec_enc_attn_mask = get_attn_pad_mask(dec_inputs, enc_inputs)      \n",
    "        dec_self_attns, dec_enc_attns = [], []\n",
    "        for layer in self.layers:                             # dec_outputs: [batch_size, tgt_len, d_model]\n",
    "                                                              # dec_self_attn: [batch_size, n_heads, tgt_len, tgt_len]\n",
    "                                                              # dec_enc_attn: [batch_size, h_heads, tgt_len, src_len]\n",
    "            dec_outputs, dec_self_attn, dec_enc_attn = layer(dec_outputs, enc_outputs, dec_self_attn_mask, dec_enc_attn_mask)\n",
    "            dec_self_attns.append(dec_self_attn)\n",
    "            dec_enc_attns.append(dec_enc_attn)\n",
    "        return dec_outputs, dec_self_attns, dec_enc_attns     \n"
   ]
  },
  {
   "cell_type": "code",
   "execution_count": 57,
   "metadata": {},
   "outputs": [],
   "source": [
    "class Transformer(nn.Module):\n",
    "    def __init__(self):\n",
    "        super(Transformer, self).__init__()\n",
    "        self.Encoder = Encoder().cuda()\n",
    "        self.Decoder = Decoder().cuda()\n",
    "        self.projection = nn.Linear(d_model, tgt_vocab_len, bias=False).cuda()\n",
    "    def forward(self, enc_inputs, dec_inputs):                         # enc_inputs: [batch_size, src_len]  \n",
    "                                                                       # dec_inputs: [batch_size, tgt_len]\n",
    "        enc_outputs, enc_self_attns = self.Encoder(enc_inputs)         # enc_outputs: [batch_size, src_len, d_model], \n",
    "                                                                       # enc_self_attns: [n_layers, batch_size, n_heads, src_len, src_len]\n",
    "        dec_outputs, dec_self_attns, dec_enc_attns = self.Decoder(\n",
    "            dec_inputs, enc_inputs, enc_outputs)                       # dec_outpus    : [batch_size, tgt_len, d_model], \n",
    "                                                                       # dec_self_attns: [n_layers, batch_size, n_heads, tgt_len, tgt_len], \n",
    "                                                                       # dec_enc_attn  : [n_layers, batch_size, tgt_len, src_len]\n",
    "        dec_logits = self.projection(dec_outputs)                      # dec_logits: [batch_size, tgt_len, tgt_vocab_size]\n",
    "        return dec_logits.view(-1, dec_logits.size(-1)), enc_self_attns, dec_self_attns, dec_enc_attns\n"
   ]
  },
  {
   "cell_type": "code",
   "execution_count": 58,
   "metadata": {},
   "outputs": [],
   "source": [
    "import torch.optim as optim\n",
    "model = Transformer().cuda()\n",
    "criterion = nn.CrossEntropyLoss(ignore_index=0)     #忽略 占位符 索引为0.\n",
    "\n",
    "optimizer = optim.SGD(model.parameters(), lr=1e-3, momentum=0.99)"
   ]
  },
  {
   "cell_type": "code",
   "execution_count": 59,
   "metadata": {},
   "outputs": [
    {
     "name": "stdout",
     "output_type": "stream",
     "text": [
      "Epoch: 0001 loss = 2.619879\n",
      "Epoch: 0001 loss = 2.857352\n",
      "Epoch: 0002 loss = 2.346457\n",
      "Epoch: 0002 loss = 2.058716\n",
      "Epoch: 0003 loss = 1.840701\n",
      "Epoch: 0003 loss = 1.623813\n",
      "Epoch: 0004 loss = 1.384874\n",
      "Epoch: 0004 loss = 1.111333\n",
      "Epoch: 0005 loss = 0.996569\n",
      "Epoch: 0005 loss = 0.729082\n",
      "Epoch: 0006 loss = 0.747888\n",
      "Epoch: 0006 loss = 0.498324\n",
      "Epoch: 0007 loss = 0.336192\n",
      "Epoch: 0007 loss = 0.720178\n",
      "Epoch: 0008 loss = 0.444827\n",
      "Epoch: 0008 loss = 0.154650\n",
      "Epoch: 0009 loss = 0.245605\n",
      "Epoch: 0009 loss = 0.080657\n",
      "Epoch: 0010 loss = 0.102074\n",
      "Epoch: 0010 loss = 0.091434\n",
      "Epoch: 0011 loss = 0.113981\n",
      "Epoch: 0011 loss = 0.036816\n",
      "Epoch: 0012 loss = 0.169828\n",
      "Epoch: 0012 loss = 0.029562\n",
      "Epoch: 0013 loss = 0.035256\n",
      "Epoch: 0013 loss = 0.332370\n",
      "Epoch: 0014 loss = 0.151164\n",
      "Epoch: 0014 loss = 0.016615\n",
      "Epoch: 0015 loss = 0.077502\n",
      "Epoch: 0015 loss = 0.031155\n",
      "Epoch: 0016 loss = 0.034563\n",
      "Epoch: 0016 loss = 0.026761\n",
      "Epoch: 0017 loss = 0.067406\n",
      "Epoch: 0017 loss = 0.030030\n",
      "Epoch: 0018 loss = 0.015464\n",
      "Epoch: 0018 loss = 0.181156\n",
      "Epoch: 0019 loss = 0.075480\n",
      "Epoch: 0019 loss = 0.006527\n",
      "Epoch: 0020 loss = 0.010420\n",
      "Epoch: 0020 loss = 0.127599\n",
      "Epoch: 0021 loss = 0.041633\n",
      "Epoch: 0021 loss = 0.002453\n",
      "Epoch: 0022 loss = 0.010346\n",
      "Epoch: 0022 loss = 0.002112\n",
      "Epoch: 0023 loss = 0.015815\n",
      "Epoch: 0023 loss = 0.001181\n",
      "Epoch: 0024 loss = 0.007758\n",
      "Epoch: 0024 loss = 0.001555\n",
      "Epoch: 0025 loss = 0.028936\n",
      "Epoch: 0025 loss = 0.000756\n",
      "Epoch: 0026 loss = 0.072913\n",
      "Epoch: 0026 loss = 0.002041\n",
      "Epoch: 0027 loss = 0.060340\n",
      "Epoch: 0027 loss = 0.003834\n",
      "Epoch: 0028 loss = 0.003565\n",
      "Epoch: 0028 loss = 0.043489\n",
      "Epoch: 0029 loss = 0.033485\n",
      "Epoch: 0029 loss = 0.000714\n",
      "Epoch: 0030 loss = 0.003480\n",
      "Epoch: 0030 loss = 0.005330\n",
      "Epoch: 0031 loss = 0.005454\n",
      "Epoch: 0031 loss = 0.001294\n",
      "Epoch: 0032 loss = 0.000950\n",
      "Epoch: 0032 loss = 0.015349\n",
      "Epoch: 0033 loss = 0.005605\n",
      "Epoch: 0033 loss = 0.001726\n",
      "Epoch: 0034 loss = 0.002487\n",
      "Epoch: 0034 loss = 0.010822\n",
      "Epoch: 0035 loss = 0.000855\n",
      "Epoch: 0035 loss = 0.006248\n",
      "Epoch: 0036 loss = 0.002962\n",
      "Epoch: 0036 loss = 0.001021\n",
      "Epoch: 0037 loss = 0.003053\n",
      "Epoch: 0037 loss = 0.000876\n",
      "Epoch: 0038 loss = 0.002217\n",
      "Epoch: 0038 loss = 0.001471\n",
      "Epoch: 0039 loss = 0.001312\n",
      "Epoch: 0039 loss = 0.001521\n",
      "Epoch: 0040 loss = 0.002549\n",
      "Epoch: 0040 loss = 0.000598\n",
      "Epoch: 0041 loss = 0.001015\n",
      "Epoch: 0041 loss = 0.005688\n",
      "Epoch: 0042 loss = 0.002495\n",
      "Epoch: 0042 loss = 0.004396\n",
      "Epoch: 0043 loss = 0.006989\n",
      "Epoch: 0043 loss = 0.005999\n",
      "Epoch: 0044 loss = 0.019284\n",
      "Epoch: 0044 loss = 0.010260\n",
      "Epoch: 0045 loss = 0.002784\n",
      "Epoch: 0045 loss = 0.006161\n",
      "Epoch: 0046 loss = 0.010477\n",
      "Epoch: 0046 loss = 0.002317\n",
      "Epoch: 0047 loss = 0.007250\n",
      "Epoch: 0047 loss = 0.000260\n",
      "Epoch: 0048 loss = 0.001867\n",
      "Epoch: 0048 loss = 0.000365\n",
      "Epoch: 0049 loss = 0.000802\n",
      "Epoch: 0049 loss = 0.001797\n",
      "Epoch: 0050 loss = 0.001187\n",
      "Epoch: 0050 loss = 0.000309\n"
     ]
    }
   ],
   "source": [
    "for epoch in range(50):\n",
    "    for enc_inputs, dec_inputs, dec_outputs in loader:         # enc_inputs : [batch_size, src_len]\n",
    "                                                               # dec_inputs : [batch_size, tgt_len]\n",
    "                                                               # dec_outputs: [batch_size, tgt_len]\n",
    "      \n",
    "      enc_inputs, dec_inputs, dec_outputs = enc_inputs.cuda(), dec_inputs.cuda(), dec_outputs.cuda()                                                             \n",
    "      outputs, enc_self_attns, dec_self_attns, dec_enc_attns = model(enc_inputs, dec_inputs)\n",
    "                                                               # outputs: [batch_size * tgt_len, tgt_vocab_size]\n",
    "      loss = criterion(outputs, dec_outputs.view(-1))\n",
    "      print('Epoch:', '%04d' % (epoch + 1), 'loss =', '{:.6f}'.format(loss))\n",
    "      optimizer.zero_grad()\n",
    "      loss.backward()\n",
    "      optimizer.step()"
   ]
  },
  {
   "cell_type": "code",
   "execution_count": 64,
   "metadata": {},
   "outputs": [
    {
     "name": "stdout",
     "output_type": "stream",
     "text": [
      "['我', '喜', '欢', '学', '习'] -> ['I', 'like', 'learning', 'E', 'E']\n"
     ]
    }
   ],
   "source": [
    "def test(model, enc_input, start_symbol):\n",
    "    # Starting Reference: http://nlp.seas.harvard.edu/2018/04/03/attention.html#greedy-decoding\n",
    "    enc_outputs, enc_self_attns = model.Encoder(enc_input)\n",
    "    dec_input = torch.zeros(1, tgt_len).type_as(enc_input.data)\n",
    "    next_symbol = start_symbol\n",
    "    for i in range(0, tgt_len):\n",
    "        dec_input[0][i] = next_symbol\n",
    "        dec_outputs, _, _ = model.Decoder(dec_input, enc_input, enc_outputs)\n",
    "        projected = model.projection(dec_outputs)\n",
    "        prob = projected.squeeze(0).max(dim=-1, keepdim=False)[1]\n",
    "        next_word = prob.data[i]\n",
    "        next_symbol = next_word.item()\n",
    "    return dec_input\n",
    "\n",
    "enc_inputs, _, _ = next(iter(loader))\n",
    "predict_dec_input = test(model, enc_inputs[0].view(1, -1).cuda(), start_symbol=tgt_vocab[\"S\"])\n",
    "predict, _, _, _ = model(enc_inputs[0].view(1, -1).cuda(), predict_dec_input)\n",
    "predict = predict.data.max(1, keepdim=True)[1]\n",
    "\n",
    "print([src_idx2word[int(i)] for i in enc_inputs[0]], '->', [tgt_idx2word[n.item()] for n in predict.squeeze()])"
   ]
  },
  {
   "cell_type": "code",
   "execution_count": null,
   "metadata": {},
   "outputs": [],
   "source": [
    "from transformers import tokenizers\n"
   ]
  },
  {
   "cell_type": "code",
   "execution_count": null,
   "metadata": {},
   "outputs": [],
   "source": []
  },
  {
   "cell_type": "code",
   "execution_count": null,
   "metadata": {},
   "outputs": [],
   "source": []
  },
  {
   "cell_type": "code",
   "execution_count": null,
   "metadata": {},
   "outputs": [],
   "source": []
  },
  {
   "cell_type": "code",
   "execution_count": null,
   "metadata": {},
   "outputs": [],
   "source": []
  },
  {
   "cell_type": "code",
   "execution_count": null,
   "metadata": {},
   "outputs": [],
   "source": []
  },
  {
   "cell_type": "code",
   "execution_count": null,
   "metadata": {},
   "outputs": [],
   "source": []
  },
  {
   "cell_type": "code",
   "execution_count": null,
   "metadata": {},
   "outputs": [],
   "source": []
  },
  {
   "cell_type": "code",
   "execution_count": null,
   "metadata": {},
   "outputs": [],
   "source": []
  },
  {
   "cell_type": "code",
   "execution_count": null,
   "metadata": {},
   "outputs": [],
   "source": []
  }
 ],
 "metadata": {
  "interpreter": {
   "hash": "a2e8f04d65c62c49dbc0f2adda76bbd103f82c3255fc54c7e3855bd92e2af645"
  },
  "kernelspec": {
   "display_name": "Python 3.7.10 ('pytorch')",
   "language": "python",
   "name": "python3"
  },
  "language_info": {
   "codemirror_mode": {
    "name": "ipython",
    "version": 3
   },
   "file_extension": ".py",
   "mimetype": "text/x-python",
   "name": "python",
   "nbconvert_exporter": "python",
   "pygments_lexer": "ipython3",
   "version": "3.7.10"
  },
  "orig_nbformat": 4
 },
 "nbformat": 4,
 "nbformat_minor": 2
}
