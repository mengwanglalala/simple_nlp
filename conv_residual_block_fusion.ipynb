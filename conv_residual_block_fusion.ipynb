{
 "cells": [
  {
   "cell_type": "code",
   "execution_count": 21,
   "metadata": {},
   "outputs": [],
   "source": [
    "import torch\n",
    "import torch.nn as nn\n",
    "import torch.nn.functional as F\n",
    "from time import time"
   ]
  },
  {
   "cell_type": "code",
   "execution_count": 22,
   "metadata": {},
   "outputs": [
    {
     "data": {
      "text/plain": [
       "torch.Size([2, 2, 1, 1])"
      ]
     },
     "execution_count": 22,
     "metadata": {},
     "output_type": "execute_result"
    }
   ],
   "source": [
    "# res_block = 3*3 conv + 1*1 conv + input\n",
    "\n",
    "#方法一： 原生写法\n",
    "in_channels = 2\n",
    "ou_channles = 2\n",
    "kernel_size = 3\n",
    "w = 9\n",
    "h = 9\n",
    "time1 = time()\n",
    "x = torch.ones(1,in_channels,w,h)#输入图片\n",
    "conv_2d = nn.Conv2d(in_channels,ou_channles,kernel_size,padding='same')\n",
    "conv_2d_pointwise = nn.Conv2d(in_channels,ou_channles,1)\n",
    "result1 = conv_2d(x) + conv_2d_pointwise(x) + x\n",
    "time2 = time()\n",
    "conv_2d_pointwise.weight.shape\n"
   ]
  },
  {
   "cell_type": "code",
   "execution_count": 15,
   "metadata": {},
   "outputs": [
    {
     "name": "stdout",
     "output_type": "stream",
     "text": [
      "tensor([[[[True, True, True, True, True, True, True, True, True],\n",
      "          [True, True, True, True, True, True, True, True, True],\n",
      "          [True, True, True, True, True, True, True, True, True],\n",
      "          [True, True, True, True, True, True, True, True, True],\n",
      "          [True, True, True, True, True, True, True, True, True],\n",
      "          [True, True, True, True, True, True, True, True, True],\n",
      "          [True, True, True, True, True, True, True, True, True],\n",
      "          [True, True, True, True, True, True, True, True, True],\n",
      "          [True, True, True, True, True, True, True, True, True]],\n",
      "\n",
      "         [[True, True, True, True, True, True, True, True, True],\n",
      "          [True, True, True, True, True, True, True, True, True],\n",
      "          [True, True, True, True, True, True, True, True, True],\n",
      "          [True, True, True, True, True, True, True, True, True],\n",
      "          [True, True, True, True, True, True, True, True, True],\n",
      "          [True, True, True, True, True, True, True, True, True],\n",
      "          [True, True, True, True, True, True, True, True, True],\n",
      "          [True, True, True, True, True, True, True, True, True],\n",
      "          [True, True, True, True, True, True, True, True, True]]]])\n"
     ]
    }
   ],
   "source": [
    "# 方法二：算子融合，把point wise卷积与x本身都写成3*3卷积\n",
    "# 最终把三个卷积写成一个卷积\n",
    "# 1）改造\n",
    "pointwise_to_conv_weight = F.pad(conv_2d_pointwise.weight,[1,1,1,1,0,0,0,0])#2*2*1*1 -> 2*2*3*3\n",
    "conv_2d_for_pointwise = nn.Conv2d(in_channels,ou_channles,kernel_size,padding='same')\n",
    "conv_2d_for_pointwise.weight = nn.Parameter(pointwise_to_conv_weight)\n",
    "conv_2d_for_pointwise.bias = conv_2d_pointwise.bias\n",
    " \n",
    "zeros = torch.unsqueeze(torch.zeros(kernel_size, kernel_size),0)\n",
    "stars = torch.unsqueeze(F.pad(torch.ones(1,1), [1,1,1,1]),0)\n",
    "stars_zeros = torch.unsqueeze(torch.cat([stars,zeros],0),0)\n",
    "zeros_stars = torch.unsqueeze(torch.cat([stars,zeros],0),0)#torch.unsqueeze(torch.cat([zeros,stars],0),0)\n",
    "identity_to_conv_weight = torch.cat([stars_zeros,zeros_stars],0)\n",
    "identity_to_conv_bias = torch.zeros([ou_channles])\n",
    "conv_2d_for_identity = nn.Conv2d(in_channels,ou_channles,kernel_size,padding='same')\n",
    "conv_2d_for_identity.weight = nn.Parameter(identity_to_conv_weight)\n",
    "conv_2d_for_identity.bias = nn.Parameter(identity_to_conv_bias)\n",
    "result2 = conv_2d(x) + conv_2d_for_pointwise(x) + conv_2d_for_identity(x)\n",
    "print(torch.isclose(result1,result2))#保存的是浮点数，不能直接用==判断"
   ]
  },
  {
   "cell_type": "code",
   "execution_count": 23,
   "metadata": {},
   "outputs": [
    {
     "name": "stdout",
     "output_type": "stream",
     "text": [
      "tensor(False)\n"
     ]
    }
   ],
   "source": [
    "# 2） 融合\n",
    "time3 = time()\n",
    "conv_2d_for_fusion = nn.Conv2d(in_channels,ou_channles,kernel_size,padding='same')\n",
    "conv_2d_for_fusion.weight = nn.Parameter(conv_2d.weight.data + conv_2d_for_pointwise.weight.data + conv_2d_for_identity.weight.data)\n",
    "conv_2d_for_fusion.bias = nn.Parameter(conv_2d.bias.data + conv_2d_for_pointwise.bias.data + conv_2d_for_identity.bias.data)\n",
    "result3 = conv_2d_for_fusion(x)\n",
    "time4 = time()\n",
    "print(torch.all(torch.isclose(result2,result3)))"
   ]
  },
  {
   "cell_type": "code",
   "execution_count": 24,
   "metadata": {},
   "outputs": [
    {
     "name": "stdout",
     "output_type": "stream",
     "text": [
      "0.002000093460083008 0.0009984970092773438\n"
     ]
    }
   ],
   "source": [
    "print(time2-time1,time4-time3)# 可以看到确实快很多。"
   ]
  },
  {
   "cell_type": "code",
   "execution_count": null,
   "metadata": {},
   "outputs": [],
   "source": []
  }
 ],
 "metadata": {
  "interpreter": {
   "hash": "a2e8f04d65c62c49dbc0f2adda76bbd103f82c3255fc54c7e3855bd92e2af645"
  },
  "kernelspec": {
   "display_name": "Python 3.7.10 ('pytorch')",
   "language": "python",
   "name": "python3"
  },
  "language_info": {
   "codemirror_mode": {
    "name": "ipython",
    "version": 3
   },
   "file_extension": ".py",
   "mimetype": "text/x-python",
   "name": "python",
   "nbconvert_exporter": "python",
   "pygments_lexer": "ipython3",
   "version": "3.7.10"
  },
  "orig_nbformat": 4
 },
 "nbformat": 4,
 "nbformat_minor": 2
}
